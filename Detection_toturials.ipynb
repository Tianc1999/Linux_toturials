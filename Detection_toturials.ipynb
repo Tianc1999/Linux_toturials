{
 "cells": [
  {
   "cell_type": "code",
   "execution_count": 1,
   "metadata": {},
   "outputs": [
    {
     "name": "stdout",
     "output_type": "stream",
     "text": [
      "Available Execution Providers:\n",
      "['MIGraphXExecutionProvider', 'ROCMExecutionProvider', 'CPUExecutionProvider']\n"
     ]
    }
   ],
   "source": [
    "import sys \n",
    "import time\n",
    "import cv2\n",
    "import os\n",
    "import numpy as np\n",
    "import onnxruntime as ort\n",
    "import matplotlib.pyplot as plt\n",
    "# sys.path.append(r\"C:\\Users\\aup\\Desktop\\AIPC_Toturials\\utils\")\n",
    "from utils.yolov8_utils import get_labels_from_txt , v8_draw , v8_nms\n",
    "\n",
    "\n",
    "# 获取当前可用的 Execution Providers\n",
    "available_providers = ort.get_available_providers()\n",
    "\n",
    "print(\"Available Execution Providers:\")\n",
    "print(available_providers)\n",
    "\n",
    "os.environ[\"HSA_OVERRIDE_GFX_VERSION\"] = \"11.0.0\""
   ]
  },
  {
   "cell_type": "code",
   "execution_count": 2,
   "metadata": {},
   "outputs": [
    {
     "name": "stderr",
     "output_type": "stream",
     "text": [
      "\u001b[0;93m2025-01-13 10:34:20.773031387 [W:onnxruntime:, session_state.cc:1166 VerifyEachNodeIsAssignedToAnEp] Some nodes were not assigned to the preferred execution providers which may or may not have an negative impact on performance. e.g. ORT explicitly assigns shape related ops to CPU to improve perf.\u001b[m\n",
      "\u001b[0;93m2025-01-13 10:34:20.773075517 [W:onnxruntime:, session_state.cc:1168 VerifyEachNodeIsAssignedToAnEp] Rerunning with verbose output on a non-minimal build will show node assignments.\u001b[m\n"
     ]
    }
   ],
   "source": [
    "\n",
    "image_path = r\"temp/person.jpg\"  # 替换为您的测试图像路径\n",
    "model = r\"toturials_models/yolov8/DetectionModel_int.onnx\"\n",
    "session = ort.InferenceSession(model,providers=[\"ROCMExecutionProvider\"])"
   ]
  },
  {
   "cell_type": "code",
   "execution_count": 3,
   "metadata": {},
   "outputs": [],
   "source": [
    "height, width = 640, 640\n",
    "img0 = cv2.imread(image_path)\n",
    "x_scale = img0.shape[1] / width\n",
    "y_scale = img0.shape[0] / height\n",
    "img = img0[:, :, ::-1]\n",
    "img = img / 255.\n",
    "img = cv2.resize(img, (width, height))\n",
    "img = np.transpose(img, (2, 0, 1))\n",
    "data = np.expand_dims(img, axis=0)\n"
   ]
  },
  {
   "cell_type": "code",
   "execution_count": 4,
   "metadata": {},
   "outputs": [],
   "source": [
    "\n",
    "\n",
    "input_name = session.get_inputs()[0].name\n",
    "label_name = session.get_outputs()[0].name\n",
    "pred = session.run([label_name], {input_name: data.astype(np.float32)})[0]"
   ]
  },
  {
   "cell_type": "code",
   "execution_count": null,
   "metadata": {},
   "outputs": [],
   "source": [
    "pred = np.squeeze(pred)\n",
    "pred = np.transpose(pred, (1, 0))\n",
    "pred_class = pred[..., 4:]\n",
    "pred_conf = np.max(pred_class, axis=-1)\n",
    "pred = np.insert(pred, 4, pred_conf, axis=-1)\n",
    "result = v8_nms(pred, 0.3, 0.45)\n",
    "labels_dict = get_labels_from_txt('toturials_models/yolov8/coco_names.txt')  # 得到类别信息，返回序号与类别对应的字典\n",
    "ret_img = v8_draw(img0, x_scale, y_scale, result,labels_dict)\n",
    "cv2.imwrite(\"temp/v8_output_file.jpg\", ret_img)"
   ]
  },
  {
   "cell_type": "code",
   "execution_count": 9,
   "metadata": {},
   "outputs": [],
   "source": [
    "\n",
    "process_output_and_save(output, img, conf_threshold=0.25, iou_threshold=0.45, save_path=\"result.jpg\")"
   ]
  },
  {
   "cell_type": "code",
   "execution_count": null,
   "metadata": {},
   "outputs": [],
   "source": []
  }
 ],
 "metadata": {
  "kernelspec": {
   "display_name": "ryzenai1.3",
   "language": "python",
   "name": "python3"
  },
  "language_info": {
   "codemirror_mode": {
    "name": "ipython",
    "version": 3
   },
   "file_extension": ".py",
   "mimetype": "text/x-python",
   "name": "python",
   "nbconvert_exporter": "python",
   "pygments_lexer": "ipython3",
   "version": "3.10.16"
  }
 },
 "nbformat": 4,
 "nbformat_minor": 4
}
