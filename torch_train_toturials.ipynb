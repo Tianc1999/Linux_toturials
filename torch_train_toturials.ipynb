{
 "cells": [
  {
   "cell_type": "markdown",
   "metadata": {},
   "source": [
    "resnet18 dml"
   ]
  },
  {
   "cell_type": "code",
   "execution_count": 1,
   "metadata": {},
   "outputs": [],
   "source": [
    "\n",
    "#conda env base ,test ok\n",
    "# use torch pretrained model\n",
    "import torch\n",
    "import torchvision\n",
    "import torchvision.transforms as transforms\n",
    "import torch.nn as nn\n",
    "import torch.optim as optim\n",
    "from torchvision.models import resnet18\n",
    "import time\n",
    "import os\n",
    "\n",
    "os.environ[\"HSA_OVERRIDE_GFX_VERSION\"] = \"11.0.0\"\n",
    "\n",
    "device = torch.device(\"cuda:0\")\n",
    "\n",
    "\n",
    "# 数据预处理\n",
    "transform = transforms.Compose([\n",
    "    transforms.RandomHorizontalFlip(),  # 随机水平翻转\n",
    "    transforms.RandomCrop(32, padding=4),  # 随机裁剪\n",
    "    transforms.ToTensor(),  # 转换为张量\n",
    "    transforms.Normalize((0.5, 0.5, 0.5), (0.5, 0.5, 0.5))  # 标准化\n",
    "])"
   ]
  },
  {
   "cell_type": "code",
   "execution_count": 3,
   "metadata": {},
   "outputs": [
    {
     "name": "stdout",
     "output_type": "stream",
     "text": [
      "Files already downloaded and verified\n",
      "Files already downloaded and verified\n"
     ]
    }
   ],
   "source": [
    "# 加载 CIFAR-10 数据集\n",
    "batch_size = 128\n",
    "train_dataset = torchvision.datasets.CIFAR10(root='./cifar10/data', train=True, download=True, transform=transform)\n",
    "train_loader = torch.utils.data.DataLoader(train_dataset, batch_size=batch_size, shuffle=True, num_workers=2)\n",
    "\n",
    "test_dataset = torchvision.datasets.CIFAR10(root='./cifar10/data', train=False, download=True, transform=transform)\n",
    "test_loader = torch.utils.data.DataLoader(test_dataset, batch_size=batch_size, shuffle=False, num_workers=2)"
   ]
  },
  {
   "cell_type": "code",
   "execution_count": 4,
   "metadata": {},
   "outputs": [
    {
     "name": "stderr",
     "output_type": "stream",
     "text": [
      "/home/aup/miniconda3/lib/python3.12/site-packages/torchvision/models/_utils.py:208: UserWarning: The parameter 'pretrained' is deprecated since 0.13 and may be removed in the future, please use 'weights' instead.\n",
      "  warnings.warn(\n",
      "/home/aup/miniconda3/lib/python3.12/site-packages/torchvision/models/_utils.py:223: UserWarning: Arguments other than a weight enum or `None` for 'weights' are deprecated since 0.13 and may be removed in the future. The current behavior is equivalent to passing `weights=None`.\n",
      "  warnings.warn(msg)\n"
     ]
    }
   ],
   "source": [
    "\n",
    "# 定义模型\n",
    "model = resnet18(pretrained=False, num_classes=10)  # ResNet18，适配 CIFAR-10 的 10 个类别\n",
    "model = model.to(device)\n",
    "\n",
    "# 定义损失函数和优化器\n",
    "criterion = nn.CrossEntropyLoss()\n",
    "optimizer = optim.SGD(model.parameters(), lr=0.1, momentum=0.9, weight_decay=5e-4)\n",
    "\n",
    "# 学习率调度器\n",
    "scheduler = optim.lr_scheduler.StepLR(optimizer, step_size=10, gamma=0.5)\n",
    "\n",
    "# 训练函数\n",
    "def train_model(model, train_loader, criterion, optimizer, epochs):\n",
    "    model.train()\n",
    "    for epoch in range(epochs):\n",
    "        start_time = time.time()\n",
    "        running_loss = 0.0\n",
    "        for i, (inputs, labels) in enumerate(train_loader):\n",
    "            inputs, labels = inputs.to(device), labels.to(device)\n",
    "\n",
    "            # 前向 + 反向 + 优化\n",
    "            optimizer.zero_grad()\n",
    "            outputs = model(inputs)\n",
    "            loss = criterion(outputs, labels)\n",
    "            loss.backward()\n",
    "            optimizer.step()\n",
    "\n",
    "            running_loss += loss.item()\n",
    "\n",
    "            if i % 100 == 0:  # 每 100 个 batch 打印一次\n",
    "                print(f\"Epoch [{epoch + 1}/{epochs}], Step [{i + 1}/{len(train_loader)}], Loss: {loss.item():.4f}\")\n",
    "\n",
    "        # 每个 epoch 的时间\n",
    "        epoch_time = time.time() - start_time\n",
    "        print(f\"Epoch {epoch + 1} finished. Time: {epoch_time:.2f}s, Average Loss: {running_loss / len(train_loader):.4f}\")\n",
    "\n",
    "        scheduler.step()"
   ]
  },
  {
   "cell_type": "code",
   "execution_count": 5,
   "metadata": {},
   "outputs": [],
   "source": [
    "# 测试函数\n",
    "def test_model(model, test_loader, criterion):\n",
    "    model.eval()\n",
    "    correct = 0\n",
    "    total = 0\n",
    "    test_loss = 0.0\n",
    "\n",
    "    with torch.no_grad():\n",
    "        for inputs, labels in test_loader:\n",
    "            inputs, labels = inputs.to(device), labels.to(device)\n",
    "            outputs = model(inputs)\n",
    "            loss = criterion(outputs, labels)\n",
    "            test_loss += loss.item()\n",
    "\n",
    "            _, predicted = torch.max(outputs.data, 1)\n",
    "            total += labels.size(0)\n",
    "            correct += (predicted == labels).sum().item()\n",
    "\n",
    "    print(f\"Test Accuracy: {100 * correct / total:.2f}%\")\n",
    "    print(f\"Test Loss: {test_loss / len(test_loader):.4f}\")\n",
    "\n"
   ]
  },
  {
   "cell_type": "code",
   "execution_count": 6,
   "metadata": {},
   "outputs": [
    {
     "name": "stdout",
     "output_type": "stream",
     "text": [
      "Starting Training...\n"
     ]
    },
    {
     "name": "stderr",
     "output_type": "stream",
     "text": [
      "/home/aup/miniconda3/lib/python3.12/site-packages/torch/nn/modules/linear.py:125: UserWarning: Attempting to use hipBLASLt on an unsupported architecture! Overriding blas backend to hipblas (Triggered internally at ../aten/src/ATen/Context.cpp:296.)\n",
      "  return F.linear(input, self.weight, self.bias)\n"
     ]
    },
    {
     "name": "stdout",
     "output_type": "stream",
     "text": [
      "Epoch [1/20], Step [1/391], Loss: 2.5054\n",
      "Epoch [1/20], Step [101/391], Loss: 2.3764\n",
      "Epoch [1/20], Step [201/391], Loss: 2.0655\n",
      "Epoch [1/20], Step [301/391], Loss: 1.5872\n",
      "Epoch 1 finished. Time: 68.69s, Average Loss: 1.9948\n",
      "Epoch [2/20], Step [1/391], Loss: 1.5906\n",
      "Epoch [2/20], Step [101/391], Loss: 1.4809\n",
      "Epoch [2/20], Step [201/391], Loss: 1.4374\n",
      "Epoch [2/20], Step [301/391], Loss: 1.4461\n",
      "Epoch 2 finished. Time: 16.18s, Average Loss: 1.4538\n",
      "Epoch [3/20], Step [1/391], Loss: 1.3392\n",
      "Epoch [3/20], Step [101/391], Loss: 1.2811\n",
      "Epoch [3/20], Step [201/391], Loss: 1.3296\n",
      "Epoch [3/20], Step [301/391], Loss: 1.2623\n",
      "Epoch 3 finished. Time: 15.84s, Average Loss: 1.2808\n",
      "Epoch [4/20], Step [1/391], Loss: 1.2965\n",
      "Epoch [4/20], Step [101/391], Loss: 1.1157\n",
      "Epoch [4/20], Step [201/391], Loss: 1.0633\n",
      "Epoch [4/20], Step [301/391], Loss: 0.9886\n",
      "Epoch 4 finished. Time: 15.81s, Average Loss: 1.1498\n",
      "Epoch [5/20], Step [1/391], Loss: 1.0651\n",
      "Epoch [5/20], Step [101/391], Loss: 1.0837\n",
      "Epoch [5/20], Step [201/391], Loss: 1.0088\n",
      "Epoch [5/20], Step [301/391], Loss: 1.0826\n",
      "Epoch 5 finished. Time: 15.77s, Average Loss: 1.0449\n",
      "Epoch [6/20], Step [1/391], Loss: 0.9811\n",
      "Epoch [6/20], Step [101/391], Loss: 1.0503\n",
      "Epoch [6/20], Step [201/391], Loss: 0.9293\n",
      "Epoch [6/20], Step [301/391], Loss: 0.8680\n",
      "Epoch 6 finished. Time: 16.01s, Average Loss: 0.9643\n",
      "Epoch [7/20], Step [1/391], Loss: 0.7512\n",
      "Epoch [7/20], Step [101/391], Loss: 0.8608\n",
      "Epoch [7/20], Step [201/391], Loss: 0.7659\n",
      "Epoch [7/20], Step [301/391], Loss: 0.9295\n",
      "Epoch 7 finished. Time: 15.81s, Average Loss: 0.9135\n",
      "Epoch [8/20], Step [1/391], Loss: 0.8780\n",
      "Epoch [8/20], Step [101/391], Loss: 0.7294\n",
      "Epoch [8/20], Step [201/391], Loss: 0.7805\n",
      "Epoch [8/20], Step [301/391], Loss: 0.9196\n",
      "Epoch 8 finished. Time: 15.95s, Average Loss: 0.8823\n",
      "Epoch [9/20], Step [1/391], Loss: 0.8844\n",
      "Epoch [9/20], Step [101/391], Loss: 0.8639\n",
      "Epoch [9/20], Step [201/391], Loss: 0.8434\n",
      "Epoch [9/20], Step [301/391], Loss: 0.8757\n",
      "Epoch 9 finished. Time: 15.86s, Average Loss: 0.8453\n",
      "Epoch [10/20], Step [1/391], Loss: 0.7657\n",
      "Epoch [10/20], Step [101/391], Loss: 0.6920\n",
      "Epoch [10/20], Step [201/391], Loss: 0.9551\n",
      "Epoch [10/20], Step [301/391], Loss: 0.8196\n",
      "Epoch 10 finished. Time: 15.80s, Average Loss: 0.8267\n",
      "Epoch [11/20], Step [1/391], Loss: 0.7111\n",
      "Epoch [11/20], Step [101/391], Loss: 0.8294\n",
      "Epoch [11/20], Step [201/391], Loss: 0.6500\n",
      "Epoch [11/20], Step [301/391], Loss: 0.8158\n",
      "Epoch 11 finished. Time: 15.79s, Average Loss: 0.6832\n",
      "Epoch [12/20], Step [1/391], Loss: 0.6050\n",
      "Epoch [12/20], Step [101/391], Loss: 0.6995\n",
      "Epoch [12/20], Step [201/391], Loss: 0.7546\n",
      "Epoch [12/20], Step [301/391], Loss: 0.5826\n",
      "Epoch 12 finished. Time: 15.83s, Average Loss: 0.6615\n",
      "Epoch [13/20], Step [1/391], Loss: 0.4942\n",
      "Epoch [13/20], Step [101/391], Loss: 0.6298\n",
      "Epoch [13/20], Step [201/391], Loss: 0.6494\n",
      "Epoch [13/20], Step [301/391], Loss: 0.6640\n",
      "Epoch 13 finished. Time: 15.83s, Average Loss: 0.6583\n",
      "Epoch [14/20], Step [1/391], Loss: 0.6900\n",
      "Epoch [14/20], Step [101/391], Loss: 0.6150\n",
      "Epoch [14/20], Step [201/391], Loss: 0.5841\n",
      "Epoch [14/20], Step [301/391], Loss: 0.5047\n",
      "Epoch 14 finished. Time: 15.98s, Average Loss: 0.6418\n",
      "Epoch [15/20], Step [1/391], Loss: 0.5809\n",
      "Epoch [15/20], Step [101/391], Loss: 0.6746\n",
      "Epoch [15/20], Step [201/391], Loss: 0.5522\n",
      "Epoch [15/20], Step [301/391], Loss: 0.5942\n",
      "Epoch 15 finished. Time: 15.92s, Average Loss: 0.6453\n",
      "Epoch [16/20], Step [1/391], Loss: 0.5375\n",
      "Epoch [16/20], Step [101/391], Loss: 0.5415\n",
      "Epoch [16/20], Step [201/391], Loss: 0.4613\n",
      "Epoch [16/20], Step [301/391], Loss: 0.7627\n",
      "Epoch 16 finished. Time: 16.02s, Average Loss: 0.6330\n",
      "Epoch [17/20], Step [1/391], Loss: 0.5203\n",
      "Epoch [17/20], Step [101/391], Loss: 0.5083\n",
      "Epoch [17/20], Step [201/391], Loss: 0.5073\n",
      "Epoch [17/20], Step [301/391], Loss: 0.6559\n",
      "Epoch 17 finished. Time: 15.94s, Average Loss: 0.6210\n",
      "Epoch [18/20], Step [1/391], Loss: 0.5310\n",
      "Epoch [18/20], Step [101/391], Loss: 0.6083\n",
      "Epoch [18/20], Step [201/391], Loss: 0.6708\n",
      "Epoch [18/20], Step [301/391], Loss: 0.5182\n",
      "Epoch 18 finished. Time: 15.93s, Average Loss: 0.6184\n",
      "Epoch [19/20], Step [1/391], Loss: 0.5102\n",
      "Epoch [19/20], Step [101/391], Loss: 0.6247\n",
      "Epoch [19/20], Step [201/391], Loss: 0.5386\n",
      "Epoch [19/20], Step [301/391], Loss: 0.4375\n",
      "Epoch 19 finished. Time: 15.83s, Average Loss: 0.6077\n",
      "Epoch [20/20], Step [1/391], Loss: 0.6272\n",
      "Epoch [20/20], Step [101/391], Loss: 0.6947\n",
      "Epoch [20/20], Step [201/391], Loss: 0.5974\n",
      "Epoch [20/20], Step [301/391], Loss: 0.5848\n",
      "Epoch 20 finished. Time: 15.90s, Average Loss: 0.5984\n",
      "Training Complete. Starting Testing...\n",
      "Test Accuracy: 74.58%\n",
      "Test Loss: 0.7446\n",
      "Model weights saved to resnet18_cifar10.pth\n"
     ]
    }
   ],
   "source": [
    "# 开始训练和测试\n",
    "num_epochs = 20\n",
    "print(\"Starting Training...\")\n",
    "train_model(model, train_loader, criterion, optimizer, num_epochs)\n",
    "print(\"Training Complete. Starting Testing...\")\n",
    "test_model(model, test_loader, criterion)\n",
    "# 保存模型权重\n",
    "torch.save(model.state_dict(), \"./cifar10/model/resnet18_cifar10.pth\")\n",
    "print(\"Model weights saved to resnet18_cifar10.pth\")\n"
   ]
  },
  {
   "cell_type": "code",
   "execution_count": 6,
   "metadata": {},
   "outputs": [],
   "source": [
    "# # 加载完整模型\n",
    "# model = torch.load(\"resnet18_cifar10_complete.pth\")\n",
    "# model = model.to(dml)\n",
    "# print(\"Complete model loaded from resnet18_cifar10_complete.pth\")\n",
    "\n"
   ]
  },
  {
   "cell_type": "code",
   "execution_count": 7,
   "metadata": {},
   "outputs": [],
   "source": []
  },
  {
   "cell_type": "code",
   "execution_count": null,
   "metadata": {},
   "outputs": [],
   "source": []
  },
  {
   "cell_type": "code",
   "execution_count": null,
   "metadata": {},
   "outputs": [],
   "source": []
  }
 ],
 "metadata": {
  "kernelspec": {
   "display_name": "base",
   "language": "python",
   "name": "python3"
  },
  "language_info": {
   "codemirror_mode": {
    "name": "ipython",
    "version": 3
   },
   "file_extension": ".py",
   "mimetype": "text/x-python",
   "name": "python",
   "nbconvert_exporter": "python",
   "pygments_lexer": "ipython3",
   "version": "3.12.2"
  }
 },
 "nbformat": 4,
 "nbformat_minor": 4
}
